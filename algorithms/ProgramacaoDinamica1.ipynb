{
 "cells": [
  {
   "attachments": {},
   "cell_type": "markdown",
   "metadata": {},
   "source": [
    "# Programação Dinâmica (parte 1)\n",
    "\n",
    "Coletânia dos algoritmos de Programação Dinâmica implementados em atividades curriculares durante a matéria de **Projeto e Análise de Algoritmos**."
   ]
  },
  {
   "attachments": {},
   "cell_type": "markdown",
   "metadata": {},
   "source": [
    "## Fibonacci"
   ]
  },
  {
   "cell_type": "code",
   "execution_count": 21,
   "metadata": {},
   "outputs": [
    {
     "data": {
      "text/plain": [
       "55"
      ]
     },
     "execution_count": 21,
     "metadata": {},
     "output_type": "execute_result"
    }
   ],
   "source": [
    "def Fib(n):\n",
    "  if n == 0:\n",
    "    return 0\n",
    "  else:\n",
    "    if n == 1:\n",
    "      return 1\n",
    "    else:\n",
    "      return Fib(n - 1) + Fib(n - 2)\n",
    "\n",
    "Fib(10)"
   ]
  },
  {
   "cell_type": "code",
   "execution_count": 22,
   "metadata": {},
   "outputs": [
    {
     "data": {
      "text/plain": [
       "55"
      ]
     },
     "execution_count": 22,
     "metadata": {},
     "output_type": "execute_result"
    }
   ],
   "source": [
    "n = 10\n",
    "M = [0] * (n + 1)\n",
    "\n",
    "def FibTopDown(n):\n",
    "  # M: vetor de memorização M[0..n+1] inicializado com 0s\n",
    "\n",
    "  if n == 0:\n",
    "    return M[n]\n",
    "  if n == 1 or n == 2:\n",
    "    M[n] = 1\n",
    "  else:\n",
    "    if M[n] == 0:\n",
    "      M[n] = FibTopDown(n - 1) + FibTopDown(n - 2)\n",
    "\n",
    "  return M[n]\n",
    "\n",
    "FibTopDown(n)"
   ]
  },
  {
   "cell_type": "code",
   "execution_count": 23,
   "metadata": {},
   "outputs": [
    {
     "data": {
      "text/plain": [
       "55"
      ]
     },
     "execution_count": 23,
     "metadata": {},
     "output_type": "execute_result"
    }
   ],
   "source": [
    "def FibBottomUp(n):\n",
    "    if n == 0:\n",
    "      return 0\n",
    "    else:\n",
    "      prev = 0\n",
    "      curr = 1\n",
    "      for i in range(1,n):\n",
    "        new = prev + curr\n",
    "        prev = curr\n",
    "        curr = new\n",
    "    \n",
    "    return curr\n",
    "\n",
    "FibBottomUp(10)"
   ]
  },
  {
   "attachments": {},
   "cell_type": "markdown",
   "metadata": {},
   "source": [
    "## Problema das cédulas"
   ]
  },
  {
   "cell_type": "code",
   "execution_count": 2,
   "metadata": {},
   "outputs": [],
   "source": [
    "# Definindo o vetor com os valores das cédulas em ordem\n",
    "C = [2, 5, 5, 2, 10, 50, 100, 50, 20, 20, 50, 100]\n",
    "# C = [2, 5, 10, 20, 10, 2, 50, 100]\n",
    "n = len(C)"
   ]
  },
  {
   "cell_type": "code",
   "execution_count": 3,
   "metadata": {},
   "outputs": [
    {
     "data": {
      "text/plain": [
       "237"
      ]
     },
     "execution_count": 3,
     "metadata": {},
     "output_type": "execute_result"
    }
   ],
   "source": [
    "def Cedulas(n):\n",
    "    if n == 0:\n",
    "      return 0\n",
    "    if n == 1:\n",
    "      return C[0]\n",
    "    else:\n",
    "      return max(C[n - 1] + Cedulas(n-2), Cedulas(n-1))\n",
    "\n",
    "Cedulas(n)"
   ]
  },
  {
   "cell_type": "code",
   "execution_count": 75,
   "metadata": {},
   "outputs": [
    {
     "data": {
      "text/plain": [
       "237"
      ]
     },
     "execution_count": 75,
     "metadata": {},
     "output_type": "execute_result"
    }
   ],
   "source": [
    "def CedulasBottomUp(n):\n",
    "  # inicializando F[0..n+1]: vetor de memorização do máximo acumulado\n",
    "  F = [0] * (n+1)\n",
    "\n",
    "  # casos base\n",
    "  F[0] = 0\n",
    "  F[1] = C[0]\n",
    "\n",
    "  # iteração principal\n",
    "  for i in range(2, n + 1):\n",
    "    F[i] = max(C[i-1] + F[i-2], F[i-1])\n",
    "  \n",
    "  return F[n]\n",
    "\n",
    "CedulasBottomUp(n)"
   ]
  },
  {
   "cell_type": "code",
   "execution_count": 76,
   "metadata": {},
   "outputs": [
    {
     "data": {
      "text/plain": [
       "237"
      ]
     },
     "execution_count": 76,
     "metadata": {},
     "output_type": "execute_result"
    }
   ],
   "source": [
    "# inicializando o vetor de memorização\n",
    "F = [0] * (n + 1)\n",
    "\n",
    "def CedulasTopDown(n):\n",
    "  # F: vetor de memorização F[0..n+1] inicializada com 0s\n",
    "\n",
    "  # casos base\n",
    "  if n == 0:\n",
    "    return 0\n",
    "  if n == 1:\n",
    "    F[n] = C[0]\n",
    "\n",
    "  # se não foi calculado ainda\n",
    "  if F[n] == 0:\n",
    "    F[n] = max(C[n - 1] + CedulasTopDown(n-2), CedulasTopDown(n-1))\n",
    "  \n",
    "  return F[n]\n",
    "\n",
    "CedulasTopDown(n)"
   ]
  },
  {
   "attachments": {},
   "cell_type": "markdown",
   "metadata": {},
   "source": [
    "## Problema do robô coletor de moedas"
   ]
  },
  {
   "cell_type": "code",
   "execution_count": 28,
   "metadata": {},
   "outputs": [
    {
     "name": "stdout",
     "output_type": "stream",
     "text": [
      "6 6\n"
     ]
    }
   ],
   "source": [
    "# Definindo o tabuleiro de moedas\n",
    "C = [\n",
    "    [0,0,1,0,1,0],\n",
    "    [1,1,0,1,0,0],\n",
    "    [0,1,0,0,1,0],\n",
    "    [0,0,1,0,0,1],\n",
    "    [0,1,1,0,1,0],\n",
    "    [0,0,1,0,1,0]\n",
    "]\n",
    "n,m = len(C), len(C[0])\n",
    "print(n,m)"
   ]
  },
  {
   "cell_type": "code",
   "execution_count": 29,
   "metadata": {},
   "outputs": [
    {
     "name": "stdout",
     "output_type": "stream",
     "text": [
      "Maximo de moedas: 7\n"
     ]
    }
   ],
   "source": [
    "def RoboColetorRecursivo(n,m):\n",
    "  # C: matriz de moedas C[0..n,0..m]\n",
    "\n",
    "  # primeira linha (n == 0)\n",
    "  if n == 0:\n",
    "    if m == 0:\n",
    "      return C[n][m]\n",
    "    # para C[0,m] o acúmulo somente vem da esquerda\n",
    "    else: \n",
    "      return RoboColetorRecursivo(n, m - 1) + C[n][m]\n",
    "  \n",
    "  # na primeira coluna (m == 0 e n > 0) o único acúmulo vem de cima\n",
    "  if m == 0:\n",
    "    return RoboColetorRecursivo(n-1, m) + C[n][m]\n",
    "\n",
    "  # parte central (m > 0 e n > 0)\n",
    "  return max(RoboColetorRecursivo(n-1, m), \n",
    "             RoboColetorRecursivo(n, m-1)) + C[n][m]\n",
    "\n",
    "print(\"Maximo de moedas: %d\" % RoboColetorRecursivo(n-1,m-1))"
   ]
  },
  {
   "cell_type": "code",
   "execution_count": 30,
   "metadata": {},
   "outputs": [
    {
     "name": "stdout",
     "output_type": "stream",
     "text": [
      "Maximo de moedas: 7\n"
     ]
    }
   ],
   "source": [
    "# Matriz contendo n linhas e m colunas\n",
    "F = [[0 for x in range(m)] for y in range(n)] \n",
    "\n",
    "def RoboColetorBottomUp():\n",
    "  # Define F as a n x m matrix\n",
    "  F[0][0] = C[0][0]\n",
    "  \n",
    "  # Inicializa a primeira linha de F\n",
    "  for j in range(1,m):\n",
    "    F[0][j] = F[0][j-1] + C[0][j]\n",
    "\n",
    "  # Loop principal\n",
    "  for i in range(1,m):\n",
    "    F[i][0] = F[i-1][0] + C[i][0] # inicializa primeira coluna\n",
    "    for j in range(1,m):\n",
    "      F[i][j] = max(F[i-1][j],F[i][j-1]) + C[i][j]\n",
    "      \n",
    "  return F[n - 1][m - 1]\n",
    "\n",
    "print(\"Maximo de moedas: %d\" % RoboColetorBottomUp())"
   ]
  },
  {
   "cell_type": "code",
   "execution_count": 31,
   "metadata": {},
   "outputs": [
    {
     "name": "stdout",
     "output_type": "stream",
     "text": [
      "Maximo de moedas: 7\n"
     ]
    }
   ],
   "source": [
    "# Matriz contendo n linhas e m colunas\n",
    "F = [[0 for x in range(m)] for y in range(n)] \n",
    "\n",
    "def RoboColetorTopDown(n,m):  \n",
    "  # F: matriz de memorização F[0..n][0..m] inicializada com 0s\n",
    "  \n",
    "  # caso base (primeira posição)\n",
    "  if n == 0:\n",
    "    if m == 0:\n",
    "      return C[n][m]\n",
    "\n",
    "  # se não foi calculado ainda\n",
    "  if F[n][m] == 0:\n",
    "    # se estamos na primeira coluna\n",
    "    if m == 0:\n",
    "      F[n][m] = RoboColetorTopDown(n-1, m) + C[n][m]\n",
    "\n",
    "    # se estamos na primeira linha\n",
    "    elif n == 0:\n",
    "      F[n][m] = RoboColetorTopDown(n, m-1) + C[n][m]\n",
    "\n",
    "    # se estamos no centro\n",
    "    else:\n",
    "      F[n][m] = max(RoboColetorTopDown(n-1, m), \n",
    "                            RoboColetorTopDown(n, m-1)) + C[n][m]  \n",
    "  \n",
    "  # print(F)\n",
    "  return F[n][m]\n",
    "\n",
    "print(\"Maximo de moedas: %d\" % RoboColetorTopDown(n - 1,m - 1))"
   ]
  },
  {
   "attachments": {},
   "cell_type": "markdown",
   "metadata": {},
   "source": [
    "## Problema do corte da haste"
   ]
  },
  {
   "cell_type": "code",
   "execution_count": 78,
   "metadata": {},
   "outputs": [],
   "source": [
    "# tabela de valores\n",
    "p = [0, 2, 6, 9, 10, 12, 16]\n",
    "n = 6 # numero de divisoes possíveis da haste"
   ]
  },
  {
   "cell_type": "code",
   "execution_count": 99,
   "metadata": {},
   "outputs": [
    {
     "name": "stdout",
     "output_type": "stream",
     "text": [
      "Lucro maximo = 18\n"
     ]
    }
   ],
   "source": [
    "\n",
    "\n",
    "def CorteHasteTopDown(p, n): \n",
    "  # p: vetor de preços p[1..n]\n",
    "  # n: tamanho da haste\n",
    "  # r: vetor de lucros r[0..n] inicializado com -1s      \n",
    "  r = [-1] * (n+1)           \n",
    "                \n",
    "  # chama a função auxiliar recursiva\n",
    "  return CorteHasteTopDownAux(p, n, r)             \n",
    "\n",
    "\n",
    "def CorteHasteTopDownAux(p, n, r):\n",
    "    # caso o lucro max para este tamanho de corte já foi calculado\n",
    "    if r[n] > -1:      \n",
    "        return r[n]   \n",
    "\n",
    "    if n == 0:         \n",
    "        q = 0\n",
    "    else:\n",
    "        q = -1\n",
    "        # print(\"n = %d\" % n)\n",
    "        for i in range(1, n+1): \n",
    "            q = max(q, p[i] + CorteHasteTopDownAux(p, n-i, r))           \n",
    "            # print(\" i = %d:  q = max(%d, %d + %d) = %d\" % (i, q, p[i],\n",
    "            #                                                     CorteHasteTopDownAux(p, n-i, r),\n",
    "            #                                                     p[i]+CorteHasteTopDownAux(p, n-i, r)))\n",
    "        \n",
    "    # print(\" r[%d] = %d\" % (n, q))\n",
    "    # atualiza o lucro max no array r, para o tamanho de corte n\n",
    "    r[n] = q            \n",
    "    return q \n",
    "\n",
    "print(\"Lucro maximo = %d\" % CorteHasteTopDown(p, n))                 "
   ]
  },
  {
   "cell_type": "code",
   "execution_count": null,
   "metadata": {},
   "outputs": [],
   "source": [
    "## Saída do programa:\n",
    "# n = 0\n",
    "#  r[0] = 0\n",
    "# n = 1\n",
    "#  i = 1:  q = max(2, 2 + 0) = 2\n",
    "#  r[1] = 2\n",
    "# n = 2\n",
    "#  i = 1:  q = max(4, 2 + 2) = 4\n",
    "#  i = 2:  q = max(6, 6 + 0) = 6\n",
    "#  r[2] = 6\n",
    "# n = 3\n",
    "#  i = 1:  q = max(8, 2 + 6) = 8\n",
    "#  i = 2:  q = max(8, 6 + 2) = 8\n",
    "#  i = 3:  q = max(9, 9 + 0) = 9\n",
    "#  r[3] = 9\n",
    "# n = 4\n",
    "#  i = 1:  q = max(11, 2 + 9) = 11\n",
    "#  i = 2:  q = max(12, 6 + 6) = 12\n",
    "#  i = 3:  q = max(12, 9 + 2) = 11\n",
    "#  i = 4:  q = max(12, 10 + 0) = 10\n",
    "#  r[4] = 12\n",
    "# n = 5\n",
    "#  i = 1:  q = max(14, 2 + 12) = 14\n",
    "#  i = 2:  q = max(15, 6 + 9) = 15\n",
    "#  i = 3:  q = max(15, 9 + 6) = 15\n",
    "#  i = 4:  q = max(15, 10 + 2) = 12\n",
    "#  i = 5:  q = max(15, 12 + 0) = 12\n",
    "#  r[5] = 15\n",
    "# n = 6\n",
    "#  i = 1:  q = max(17, 2 + 15) = 17\n",
    "#  i = 2:  q = max(18, 6 + 12) = 18\n",
    "#  i = 3:  q = max(18, 9 + 9) = 18\n",
    "#  i = 4:  q = max(18, 10 + 6) = 16\n",
    "#  i = 5:  q = max(18, 12 + 2) = 14\n",
    "#  i = 6:  q = max(18, 16 + 0) = 16\n",
    "#  r[6] = 18\n",
    "\n",
    "# Lucro maximo = 18\n"
   ]
  }
 ],
 "metadata": {
  "kernelspec": {
   "display_name": "Python 3",
   "language": "python",
   "name": "python3"
  },
  "language_info": {
   "codemirror_mode": {
    "name": "ipython",
    "version": 3
   },
   "file_extension": ".py",
   "mimetype": "text/x-python",
   "name": "python",
   "nbconvert_exporter": "python",
   "pygments_lexer": "ipython3",
   "version": "3.10.7"
  },
  "orig_nbformat": 4,
  "vscode": {
   "interpreter": {
    "hash": "e7370f93d1d0cde622a1f8e1c04877d8463912d04d973331ad4851f04de6915a"
   }
  }
 },
 "nbformat": 4,
 "nbformat_minor": 2
}
