{
 "cells": [
  {
   "attachments": {},
   "cell_type": "markdown",
   "metadata": {},
   "source": [
    "# Programação Dinâmica (parte 2)\n",
    "\n",
    "Segunda coletânia dos algoritmos de Programação Dinâmica implementados em atividades curriculares durante a matéria de **Projeto e Análise de Algoritmos**."
   ]
  },
  {
   "attachments": {},
   "cell_type": "markdown",
   "metadata": {},
   "source": [
    "## Dijkstra (alto nível)"
   ]
  },
  {
   "cell_type": "code",
   "execution_count": null,
   "metadata": {},
   "outputs": [],
   "source": [
    "def Dijkstra(G,w,s): \n",
    "  # G = (V,E) é um grafo com pesos w\n",
    "  # s é o vértice inicial\n",
    "  # lambda(v) é a menor distância de s a v\n",
    "  # pi(v) é o vértice anterior a v no caminho mínimo de s a v\n",
    "  \n",
    "  for each v in V:\n",
    "    lambda(v) = inf\n",
    "    pi(v) = null\n",
    "\n",
    "  lambda(s) = 0\n",
    "  S = {}\n",
    "  Q = {}\n",
    "\n",
    "  for each v in V:\n",
    "    Insert(Q,v)\n",
    "\n",
    "  while Q != {}: \n",
    "    u = ExtractMin(Q)\n",
    "    S = S + {u} # insere u em S\n",
    "    for each v in N(u):\n",
    "      lambda(v) = min(lambda(v), lambda(u) + w(u,v))\n",
    "      if lambda was updated:\n",
    "        pi(v) = u\n",
    "        DecreaseKey(Q,v,lambda(v))\n",
    "\n",
    "  return\n"
   ]
  },
  {
   "attachments": {},
   "cell_type": "markdown",
   "metadata": {},
   "source": [
    "## Floyd Warshall"
   ]
  },
  {
   "cell_type": "code",
   "execution_count": 49,
   "metadata": {},
   "outputs": [],
   "source": [
    "def Floyd_Warshall(W, n):\n",
    "  # W é uma matriz de adjacência de custos\n",
    "  # n é o número de vértices\n",
    "\n",
    "  # inicializa D^(k) com W\n",
    "  D = [0] * (n+1)\n",
    "  D[0] = W\n",
    "\n",
    "  # calcula D^(k) para k = 1,2,...,n\n",
    "  for k in range(1,n+1):\n",
    "    Dk = [[0] * (n) for _ in range(n)]\n",
    "\n",
    "    # calcula D^(k) a partir de D^(k-1)\n",
    "    for i in range(0,n):\n",
    "      for j in range(0,n):\n",
    "        Dk[i][j] = min(D[k-1][i][j], D[k-1][i][k-1] + D[k-1][k-1][j])\n",
    "\n",
    "    # armazena D^(k) em D\n",
    "    D[k] = Dk\n",
    "  \n",
    "  # retorna D^(n)\n",
    "  return D[n]\n"
   ]
  },
  {
   "cell_type": "code",
   "execution_count": 48,
   "metadata": {},
   "outputs": [
    {
     "data": {
      "text/plain": [
       "[[0, 2, 3, 1, 4],\n",
       " [6, 0, 3, 2, 5],\n",
       " [10, 12, 0, 4, 7],\n",
       " [6, 8, 2, 0, 3],\n",
       " [3, 5, 6, 4, 0]]"
      ]
     },
     "execution_count": 48,
     "metadata": {},
     "output_type": "execute_result"
    }
   ],
   "source": [
    "import math\n",
    "inf = math.inf\n",
    "\n",
    "W = [\n",
    "  [0,2,inf,1,8],\n",
    "  [6,0,3,2,inf], \n",
    "  [inf,inf,0,4,inf], \n",
    "  [inf,inf,2,0,3], \n",
    "  [3,inf,inf,inf,0]\n",
    "]\n",
    "n = W.__len__()\n",
    "\n",
    "Floyd_Warshall(W, n)"
   ]
  }
 ],
 "metadata": {
  "kernelspec": {
   "display_name": "Python 3",
   "language": "python",
   "name": "python3"
  },
  "language_info": {
   "codemirror_mode": {
    "name": "ipython",
    "version": 3
   },
   "file_extension": ".py",
   "mimetype": "text/x-python",
   "name": "python",
   "nbconvert_exporter": "python",
   "pygments_lexer": "ipython3",
   "version": "3.10.7"
  },
  "orig_nbformat": 4,
  "vscode": {
   "interpreter": {
    "hash": "e7370f93d1d0cde622a1f8e1c04877d8463912d04d973331ad4851f04de6915a"
   }
  }
 },
 "nbformat": 4,
 "nbformat_minor": 2
}
